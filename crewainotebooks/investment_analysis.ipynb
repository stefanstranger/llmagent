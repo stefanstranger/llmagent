{
 "cells": [
  {
   "cell_type": "markdown",
   "metadata": {},
   "source": [
    "# Investment Analysis\n",
    "\n",
    "In this notebook, you will learn how to use crewai to create agents that collaborate to provide investment analysis.\n",
    "\n",
    "If you're running this notebook on your own machine, you can install the following:\n",
    "\n",
    "!pip install crewai==0.83.0 crewai-tools==0.14.0 langchain-community==0.3.8 duckduckgo_search==6.3.6  \n",
    "\n",
    "## Create a conda environment\n",
    " \n",
    "Run: \n",
    "conda create -n crewai python=3.12\n",
    "conda activate crewai\n",
    "\n",
    "Next install the following modules:\n",
    "pip install crewai==0.83.0 crewai-tools==0.14.0 langchain-community==0.3.8 duckduckgo_search==6.3.6 ipykernel PyPDF2==3.0.1\n",
    "\n",
    "\n",
    "**References:**\n",
    "- https://github.com/ksm26/Multi-AI-Agent-Systems-with-crewAI"
   ]
  },
  {
   "cell_type": "markdown",
   "metadata": {},
   "source": [
    "# crewAI flow\n",
    "\n",
    "```mermaid\n",
    "graph TD\n",
    "    Crew[Investment Analysis Crew] -->|uses| Agent1[Summarizer]\n",
    "    Crew[Investment Analysis Crew] -->|uses| Agent2[Market Analyst]\n",
    "    Crew[Investment Analysis Crew] -->|uses| Agent3[Financial Analyst]\n",
    "    Crew[Investment Analysis Crew] -->|uses| Agent4[Manager]\n",
    "\n",
    "    Agent1[Summarizer] -->|performs| Task1[Read PDF Task]\n",
    "    Agent2[Market Analyst] -->|performs| Task2[Market Analysis Task]\n",
    "    Agent3[Financial Analyst] -->|performs| Task3[Financial Analysis Task]\n",
    "    Agent4[Manager] -->|performs| Task4[Report Creation Task]\n",
    "\n",
    "    Task1[Read PDF Task] -->|uses| Tool1[Pdf Reader Tool]\n",
    "    Task2[Market Analysis Task] -->|uses| Tool2[Scrape Website Tool]\n",
    "    Task2[Market Analysis Task] -->|uses| Tool3[DuckDuckGo Search Results Tool]\n",
    "    Task3[Financial Analysis Task] -->|uses| Tool2[Scrape Website Tool]\n",
    "    Task3[Financial Analysis Task] -->|uses| Tool3[DuckDuckGo Search Results Tool]\n",
    "```"
   ]
  },
  {
   "cell_type": "code",
   "execution_count": null,
   "metadata": {},
   "outputs": [],
   "source": [
    "# Warning control\n",
    "import warnings\n",
    "warnings.filterwarnings('ignore')"
   ]
  },
  {
   "cell_type": "markdown",
   "metadata": {},
   "source": [
    "# Import libraries, APIs and LLM"
   ]
  },
  {
   "cell_type": "code",
   "execution_count": null,
   "metadata": {},
   "outputs": [],
   "source": [
    "from crewai import Agent, Task"
   ]
  },
  {
   "cell_type": "markdown",
   "metadata": {},
   "source": [
    "# Configure Azure OpenAI variables"
   ]
  },
  {
   "cell_type": "code",
   "execution_count": null,
   "metadata": {},
   "outputs": [],
   "source": [
    "import os\n",
    "\n",
    "os.environ[\"AZURE_OPENAI_VERSION\"] = \"2023-03-15-preview\"\n",
    "os.environ[\"AZURE_OPENAI_DEPLOYMENT\"] = \"gpt-4o\"\n",
    "os.environ[\"AZURE_OPENAI_ENDPOINT\"] = \"https://fabricaio.openai.azure.com\"\n",
    "# Read the environment variable. \n",
    "azure_openai_key = os.getenv(\"AZURE_API_KEY\")\n",
    "\n",
    "\n",
    "print(\"Loaded environment variables for crewai successfully!\")"
   ]
  },
  {
   "cell_type": "markdown",
   "metadata": {},
   "source": [
    "# Define the default crewai LLM"
   ]
  },
  {
   "cell_type": "code",
   "execution_count": null,
   "metadata": {},
   "outputs": [],
   "source": [
    "from langchain_openai import AzureChatOpenAI\n",
    "\n",
    "default_llm = AzureChatOpenAI(\n",
    "    openai_api_version=os.environ.get(\"AZURE_OPENAI_VERSION\", \"2023-07-01-preview\"),\n",
    "    azure_deployment=os.environ.get(\"AZURE_OPENAI_DEPLOYMENT\", \"gpt-4o\"),\n",
    "    azure_endpoint=os.environ.get(\"AZURE_OPENAI_ENDPOINT\", \"https://fabricaio.openai.azure.com/\"),\n",
    "    api_key=azure_openai_key\n",
    ")"
   ]
  },
  {
   "cell_type": "markdown",
   "metadata": {},
   "source": [
    "# crewAI tools"
   ]
  },
  {
   "cell_type": "code",
   "execution_count": null,
   "metadata": {},
   "outputs": [],
   "source": [
    "from crewai_tools import ScrapeWebsiteTool\n",
    "from langchain_community.tools import DuckDuckGoSearchResults\n",
    "scrape_tool = ScrapeWebsiteTool()\n"
   ]
  },
  {
   "cell_type": "markdown",
   "metadata": {},
   "source": [
    "# crewAI custom tool\n",
    "\n",
    "For being able to read a pdf file the following custom tool needs to be created that extracts text from a pdf file.\n",
    "\n",
    "This tools is being created using crewAI's [BaseTool](https://docs.crewai.com/core-concepts/Tools/#subclassing-basetool) class"
   ]
  },
  {
   "cell_type": "code",
   "execution_count": null,
   "metadata": {},
   "outputs": [],
   "source": [
    "from crewai_tools import BaseTool\n",
    "from PyPDF2 import PdfReader\n",
    "from langchain_community.tools import DuckDuckGoSearchResults\n",
    "from langchain_community.utilities import DuckDuckGoSearchAPIWrapper\n"
   ]
  },
  {
   "cell_type": "markdown",
   "metadata": {},
   "source": [
    "- Every Tool needs to have a name and a description.\n",
    "- When running locally, you can customize the code with your logic in the _run function."
   ]
  },
  {
   "cell_type": "code",
   "execution_count": null,
   "metadata": {},
   "outputs": [],
   "source": [
    "# https://pypi.org/project/duckduckgo-search/#regions\n",
    "# https://python.langchain.com/api_reference/community/utilities/langchain_community.utilities.duckduckgo_search.DuckDuckGoSearchAPIWrapper.html#langchain_community.utilities.duckduckgo_search.DuckDuckGoSearchAPIWrapper.region\n",
    "# https://python.langchain.com/docs/integrations/tools/ddg/\n",
    "\n",
    "class CustomDuckDuckGoSearchResults(BaseTool):\n",
    "    name: str = \"DuckDuckGo Search Results Tool\"\n",
    "    description: str = \"Generates a web search query based on the input text.\"\n",
    "\n",
    "    def _run(self, query: str) -> str:\n",
    "        \"\"\"\n",
    "        Generates a web search query based on the input text.\n",
    "\n",
    "        Args:\n",
    "            query (str): The input text to generate the search query.\n",
    "\n",
    "        Returns:\n",
    "            str: The web search query generated from the input text.\n",
    "        \"\"\"\n",
    "        wrapper = DuckDuckGoSearchAPIWrapper(region=\"nl-nl\", max_results=5)\n",
    "        #search = DuckDuckGoSearchResults(output_format=\"json\")\n",
    "        search = DuckDuckGoSearchResults(api_wrapper=wrapper, output_format=\"json\")\n",
    "        return search.invoke(query)"
   ]
  },
  {
   "cell_type": "code",
   "execution_count": null,
   "metadata": {},
   "outputs": [],
   "source": [
    "search_tool = CustomDuckDuckGoSearchResults()"
   ]
  },
  {
   "cell_type": "code",
   "execution_count": null,
   "metadata": {},
   "outputs": [],
   "source": [
    "class PdfReaderTool(BaseTool):\n",
    "    name: str =\"Pdf Reader Tool\"\n",
    "    description: str = (\"Reads the content of a PDF file and returns the text.\")\n",
    "    \n",
    "    def _run(self, file_path: str) -> str:\n",
    "        \"\"\"\n",
    "        Reads the content of a PDF file and returns the text.\n",
    "\n",
    "        Args:\n",
    "            file_path (str): The path to the PDF file.\n",
    "\n",
    "        Returns:\n",
    "            str: The text content of the PDF file.\n",
    "        \"\"\"\n",
    "        with open(file_path, \"rb\") as file:\n",
    "            reader = PdfReader(file)\n",
    "            text = \"\"\n",
    "            for page in reader.pages:\n",
    "                text += page.extract_text()\n",
    "        return text"
   ]
  },
  {
   "cell_type": "code",
   "execution_count": null,
   "metadata": {},
   "outputs": [],
   "source": [
    "pdf_reader_tool = PdfReaderTool()"
   ]
  },
  {
   "cell_type": "markdown",
   "metadata": {},
   "source": [
    "# crewAI agents"
   ]
  },
  {
   "cell_type": "code",
   "execution_count": null,
   "metadata": {},
   "outputs": [],
   "source": [
    "summarizer_agent = Agent(\n",
    "    role=\"Summarizer\",\n",
    "    goal=\"Summarize the content of a PDF file into a concise report.\",\n",
    "    backstory=\"A summarizer agent reads the content of a PDF file and summarizes it into a concise report.\"\n",
    "              \"They identify key points, extract important information, and provide a summary of the document.\"\n",
    "              \"Always respond in the {language} language provided.\",\n",
    "    verbose=True,\n",
    "    allow_delegation=False,\n",
    "    tools=[pdf_reader_tool]\n",
    ")"
   ]
  },
  {
   "cell_type": "code",
   "execution_count": null,
   "metadata": {},
   "outputs": [],
   "source": [
    "market_analyst_agent = Agent(\n",
    "    role=\"Market Analyst\",\n",
    "    goal=\"Analyze market trends and provide insights to help investors make informed decisions.\"\n",
    "         \"Always respond in the {language} language provided.\",\n",
    "    backstory=\"A market analyst agent examines the market conditions and competitive landscape\"\n",
    "              \"in which the company operates.\"\n",
    "              \"They assess market trends, demand, competition, and potential growth opportunities.\"\n",
    "              \"Their analysis helps determine the market potential and\"\n",
    "              \"strategic positioning of the company.\",\n",
    "    verbose=True,\n",
    "    allow_delegation=True,\n",
    "    tools = [scrape_tool, search_tool]\n",
    ")"
   ]
  },
  {
   "cell_type": "code",
   "execution_count": null,
   "metadata": {},
   "outputs": [],
   "source": [
    "financial_analyst_agent = Agent(\n",
    "    role=\"Financial Analyst\",\n",
    "    goal=\"Analyze financial health and performance {industry} and provide insights to help investors make informed decisions.\"\n",
    "         \"Always respond in the {language} language provided.\",\n",
    "    backstory=\"A financial analyst evaluates the financial health and performance of the company seeking investment.\"\n",
    "                \"They analyze financial statements, assess profitability, liquidity, and solvency,\"\n",
    "                \"and perform financial modeling to project future performance.\"\n",
    "                \"Their goal is to determine the financial viability of the investment.\",\n",
    "    verbose=True,\n",
    "    allow_delegation=True,\n",
    "    tools = [scrape_tool, search_tool]\n",
    "    \n",
    ")"
   ]
  },
  {
   "cell_type": "code",
   "execution_count": null,
   "metadata": {},
   "outputs": [],
   "source": [
    "manager_agent = Agent(\n",
    "    role=\"Manager\",\n",
    "    goal=\"Write the final investment analysis report based on the input from the other agents\"\n",
    "        \"Always respond in the {language} language provided.\"\n",
    "        \"The report needs to be at least 6000 characters long!\",\n",
    "    backstory=\"You are the most senior investment manager of the company and responsible for the end report being sent out to the client.\"\n",
    "                \"Your goal is to review the content from the other agents\"\n",
    "                \"and write the final report being sent out to the clientrequesting this report.\"\n",
    "                \"Make sure it contains all the relevant information so that the client can make solid decision on wether to invest in this company or not.\",\n",
    "    verbose=True,\n",
    "    allow_delegation=False\n",
    ")"
   ]
  },
  {
   "cell_type": "markdown",
   "metadata": {},
   "source": [
    "# crewAI Tasks"
   ]
  },
  {
   "cell_type": "code",
   "execution_count": null,
   "metadata": {},
   "outputs": [],
   "source": [
    "# Create a crewAI task for reading the pdf file with an argument of the file path\n",
    "\n",
    "class PdfReaderTask:\n",
    "    def read_pdf_task(self, file_path):\n",
    "        return Task(\n",
    "        description=(\n",
    "            \"Summarize the key points from the provided PDF document located at {file_path},\"\n",
    "        ),\n",
    "        expected_output=\"A concise summary of the key points from the PDF document.\",\n",
    "        agent=summarizer_agent,\n",
    "        tools=[pdf_reader_tool],\n",
    "        output_file=\"outputs/summary.md\",\n",
    ")\n",
    "        \n",
    "pdf_reader_task = PdfReaderTask().read_pdf_task(\n",
    "            'C://Temp//InformatieMemorandumStatuta.pdf',\n",
    "        )"
   ]
  },
  {
   "cell_type": "code",
   "execution_count": null,
   "metadata": {},
   "outputs": [],
   "source": [
    "# Task for Market Analyst Agent: Analyze Market Data\n",
    "market_analysis_task = Task(\n",
    "    description=(\n",
    "        \"Continuously monitor and analyze market data for \"\n",
    "        \"the selected industry ({industry} and {country}). \"\n",
    "        \"Use statistical modeling and machine learning to \"\n",
    "        \"identify trends and predict market movements.\"\n",
    "    ),\n",
    "    expected_output=(\n",
    "        \"Insights and alerts about significant market \"\n",
    "        \"opportunities or threats for industry ({industry} and {country}).\"\n",
    "        \"All your finding need to be supported by the search urls you have used during your analysis!\"\n",
    "    ),\n",
    "    agent=market_analyst_agent,\n",
    "    output_file=\"outputs/market_analysis.md\",\n",
    ")"
   ]
  },
  {
   "cell_type": "code",
   "execution_count": null,
   "metadata": {},
   "outputs": [],
   "source": [
    "# Task for Financial Analyst Agent: Analyze financial Data\n",
    "financial_analysis_task = Task(\n",
    "    description=(\n",
    "        \"Continuously monitor and analyze financial data for \"\n",
    "        \"the selected industry ({industry} and {country}). \"\n",
    "        \"Use statistical modeling and machine learning to \"\n",
    "        \"identify trends and predict financial results.\"\n",
    "    ),\n",
    "    expected_output=(\n",
    "        \"Insights and alerts about significant financial \"\n",
    "        \"opportunities or threats for industry ({industry} and {country}).\"\n",
    "        \"All your finding need to be supported by the search urls you have used during your analysis!\"\n",
    "    ),\n",
    "    agent=financial_analyst_agent,\n",
    "    output_file=\"outputs/financial_analysis.md\",\n",
    ")"
   ]
  },
  {
   "cell_type": "code",
   "execution_count": null,
   "metadata": {},
   "outputs": [],
   "source": [
    "# Final report creation task\n",
    "report_creation_task = Task(\n",
    "    description=(\n",
    "        \"Final investment analysis report for the client\"\n",
    "        \"The following sections need to be part of the report\"\n",
    "        \"1. Summary: Summary of the provide input pdf file\"\n",
    "        \"2. Strengths Identification: Identify the strong points of the proposed investment request.\"\n",
    "        \"3. Weaknesses Identification: Highlight potential weaknesses and risks.\"\n",
    "        \"4. Financial Insights: Describe the company's financial statements, and include financial insights from online research.\"\n",
    "        \"5. Marktet Insights: Describe the market for which an investment is asked, describe the industry, market trends, and competitive landscape.\"\n",
    "        \"6. Final Conclusion: Describe if the client should make the investment or not, with a clear explaination of the reasons.\"\n",
    "    ),\n",
    "    expected_output=(\n",
    "        \"A well written report in markdown format, ready to be sent out the client.\"\n",
    "    ),\n",
    "    output_file=\"outputs/investment_analysis_report.md\",\n",
    "    agent=manager_agent,\n",
    ")"
   ]
  },
  {
   "cell_type": "markdown",
   "metadata": {},
   "source": [
    "# crewAI crew\n",
    "\n",
    "- The Process class helps to delegate the workflow to the Agents (kind of like a Manager at work)\n",
    "- In the example below, it will run this hierarchically.\n",
    "- manager_llm lets you choose the \"manager\" LLM you want to use."
   ]
  },
  {
   "cell_type": "code",
   "execution_count": null,
   "metadata": {},
   "outputs": [],
   "source": [
    "from crewai import Crew , Process\n",
    "\n",
    "# Define the crew with agents and tasks\n",
    "investment_crew = Crew(\n",
    "    agents=[\n",
    "        summarizer_agent,\n",
    "        market_analyst_agent,\n",
    "        financial_analyst_agent,\n",
    "        manager_agent\n",
    "        ],    \n",
    "    tasks=[\n",
    "        pdf_reader_task,\n",
    "        market_analysis_task,\n",
    "        financial_analysis_task,\n",
    "        report_creation_task\n",
    "        ],    \n",
    "    #manager_llm=default_llm,     \n",
    "    process='sequential',\n",
    "    verbose=True,\n",
    "    memory=True\n",
    ")"
   ]
  },
  {
   "cell_type": "markdown",
   "metadata": {},
   "source": [
    "# Running the crew\n",
    "\n",
    "- Set the inputs for the execution of the crew"
   ]
  },
  {
   "cell_type": "code",
   "execution_count": null,
   "metadata": {},
   "outputs": [],
   "source": [
    "# Example data for kicking off the process\n",
    "investment_inputs = {\n",
    "    'industry': 'AI software voor rechtspraak',\n",
    "    'country': 'Nederland',\n",
    "    'language': 'Dutch',\n",
    "    'search-region': 'nl-nl',\n",
    "    'file_path': 'C://Temp//InformatieMemorandumStatuta.pdf'\n",
    "}"
   ]
  },
  {
   "cell_type": "code",
   "execution_count": null,
   "metadata": {},
   "outputs": [],
   "source": [
    "### this execution will take some time to run\n",
    "result = investment_crew.kickoff(inputs=investment_inputs)"
   ]
  }
 ],
 "metadata": {
  "kernelspec": {
   "display_name": "Python 3",
   "language": "python",
   "name": "python3"
  },
  "language_info": {
   "codemirror_mode": {
    "name": "ipython",
    "version": 3
   },
   "file_extension": ".py",
   "mimetype": "text/x-python",
   "name": "python",
   "nbconvert_exporter": "python",
   "pygments_lexer": "ipython3",
   "version": "3.12.7"
  }
 },
 "nbformat": 4,
 "nbformat_minor": 2
}
