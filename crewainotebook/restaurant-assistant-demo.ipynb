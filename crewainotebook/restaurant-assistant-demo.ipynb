{
 "cells": [
  {
   "cell_type": "markdown",
   "metadata": {},
   "source": [
    "# Demo CrewAi\n",
    "\n",
    "In this Notebook we are going to demo how to use CrewAI with Azure OpenAI to create a restaurant recommendation assistant.\n",
    "\n",
    "In this example we are going to use crewAI tools.\n",
    "\n",
    "You can find more information about tools [here](https://github.com/crewAIInc/crewAI-tools)\n",
    "\n",
    "1. **Install CrewAI**: First, we need to install the CrewAI package using pip.\n",
    "2. **Configure Azure OpenAI Environment Variables**: Set up the necessary environment variables for Azure OpenAI.\n",
    "3. **Import Python Modules**: Import the required Python modules for the demo.\n",
    "4. **Define the Default LLM**: Set up the default language model using AzureChatOpenAI.\n",
    "5. **Load Restaurant Categories**: Load the list of restaurant categories from a JSON file.\n",
    "6. **Define CrewAI Tools**: Create tools for retrieving category IDs, addresses, and restaurant information.\n",
    "7. **Create CrewAI Agent**: Define an agent with a specific role, goal, and tools.\n",
    "8. **Create CrewAI Tasks**: Set up tasks for restaurant recommendations, category retrieval, and location finding.\n",
    "9. **Instantiate Crew**: Create a Crew instance with the agent and tasks, and start the task execution.\n",
    "\n",
    "Let get started with installing CrewAI!\n",
    "\n",
    "\n",
    "## Questions\n",
    "\n",
    "1. Where do I need to configure the tools? At the Agent, Task and or Crew?\n",
    "2. Why do I need to configure category and location as input values for the Crew?\n",
    "3. Why is keeps the crew running while the answer is given?\n",
    "\n",
    "## References\n",
    "\n",
    "- [I Created a CUSTOM AI Tool with CrewAI](https://www.google.com/search?q=crewai+tools+show+how+to+create+a+custom+tool&sca_esv=d29dcacd0903cf12&sxsrf=ADLYWIKoibXGp5VjDpt6pGktNyRBipnP3Q%3A1731753760079&ei=IHc4Z8q2BOupi-gP_eqFcA&ved=0ahUKEwjKxtS91eCJAxXr1AIHHX11AQ4Q4dUDCA8&uact=5&oq=crewai+tools+show+how+to+create+a+custom+tool&gs_lp=Egxnd3Mtd2l6LXNlcnAiLWNyZXdhaSB0b29scyBzaG93IGhvdyB0byBjcmVhdGUgYSBjdXN0b20gdG9vbDIFECEYoAEyBRAhGKABSIUzUNUMWIktcAF4AJABAJgBowGgAa0WqgEEMjguNbgBA8gBAPgBAZgCIaAC3RXCAgoQABiwAxjWBBhHwgIGEAAYFhgewgIIEAAYFhgKGB7CAgsQABiABBiGAxiKBcICCBAAGIAEGKIEwgIHECEYoAEYCsICBRAhGJIDwgIEECEYFZgDAIgGAZAGCJIHBDI4LjWgB7OPAQ&sclient=gws-wiz-serp#fpstate=ive&vld=cid:b4443448,vid:rcmMK-zkxrQ,st:142)\n",
    "- [Tyler programmaming - Day04 Crew](https://github.com/tylerprogramming/ai/blob/main/crewai_series/day_04/src/day_04/config/agents.yaml)"
   ]
  },
  {
   "cell_type": "code",
   "execution_count": null,
   "metadata": {},
   "outputs": [],
   "source": [
    "%pip install -q crewai"
   ]
  },
  {
   "cell_type": "markdown",
   "metadata": {},
   "source": [
    "# Configure Azure OpenAI environment variables"
   ]
  },
  {
   "cell_type": "code",
   "execution_count": null,
   "metadata": {},
   "outputs": [],
   "source": [
    "import os\n",
    "\n",
    "os.environ[\"AZURE_OPENAI_VERSION\"] = \"2023-03-15-preview\"\n",
    "os.environ[\"AZURE_OPENAI_DEPLOYMENT\"] = \"gpt-4o\"\n",
    "os.environ[\"AZURE_OPENAI_ENDPOINT\"] = \"<enter-endpoint-url>\"\n",
    "# Read the environment variable. \n",
    "azure_openai_key = os.getenv(\"AZURE_API_KEY\")\n",
    "\n",
    "\n",
    "print(\"Loaded environment variables for CrewAi demo\")"
   ]
  },
  {
   "cell_type": "markdown",
   "metadata": {},
   "source": [
    "## Import Python Modules\n",
    "\n",
    "Below code will imports the required Python Modules"
   ]
  },
  {
   "cell_type": "code",
   "execution_count": null,
   "metadata": {},
   "outputs": [],
   "source": [
    "from crewai import Agent, Task, Process, Crew\n",
    "import os\n",
    "from langchain_openai import AzureChatOpenAI\n",
    "import json\n"
   ]
  },
  {
   "cell_type": "markdown",
   "metadata": {},
   "source": [
    "# Define the default LLM"
   ]
  },
  {
   "cell_type": "code",
   "execution_count": null,
   "metadata": {},
   "outputs": [],
   "source": [
    "default_llm = AzureChatOpenAI(\n",
    "    openai_api_version=os.environ.get(\"AZURE_OPENAI_VERSION\", \"2023-07-01-preview\"),\n",
    "    azure_deployment=os.environ.get(\"AZURE_OPENAI_DEPLOYMENT\", \"gpt-4o\"),\n",
    "    azure_endpoint=os.environ.get(\"AZURE_OPENAI_ENDPOINT\", \"<enter-endpoint-url>/\"),\n",
    "    api_key=azure_openai_key\n",
    ")"
   ]
  },
  {
   "cell_type": "markdown",
   "metadata": {},
   "source": [
    "# Load list of Azure Maps Restaurant Categories\n",
    "\n",
    "Azure Maps uses restaurant categories and these are stored in a json file that needs to be loaded."
   ]
  },
  {
   "cell_type": "code",
   "execution_count": null,
   "metadata": {},
   "outputs": [],
   "source": [
    "script_dir = 'C://Github//llmagents//crewainotebook'\n",
    "\n",
    "# Construct the path to the JSON file\n",
    "json_file_name = \"restaurant_categories.json\"\n",
    "json_file_path = os.path.join(script_dir, json_file_name)\n",
    "# Open and load the JSON file\n",
    "with open(json_file_path, 'r') as file:\n",
    "    restaurant_categories  = json.load(file)\n",
    "    \n",
    "print(restaurant_categories)"
   ]
  },
  {
   "cell_type": "markdown",
   "metadata": {},
   "source": [
    "\n",
    "# Define CrewAI Tools\n",
    "\n",
    "This section defines the following tools used in the CrewAI restaurant assistant demo:\n",
    "- get_category_name: A function that retrieves the category name of a restaurant based on its ID or other identifying information.\n",
    "- get_address: A function that fetches the address of a restaurant given its ID or other identifying information.\n",
    "- get_restaurant_info: A function that gathers comprehensive information about a restaurant, including its name, address, category, and other relevant details.\n",
    "\n",
    "These tools are essential for the functionality of the restaurant assistant, enabling it to provide accurate and detailed information about various restaurants.\n"
   ]
  },
  {
   "cell_type": "code",
   "execution_count": null,
   "metadata": {},
   "outputs": [],
   "source": [
    "from crewai_tools import BaseTool\n",
    "import re\n",
    "import http.client\n",
    "import urllib.parse\n",
    "\n",
    "\n",
    "# Define a tool that retrieves the category ID from the restaurant_categories.json file based on the category name\n",
    "class GetCategoryIDTool(BaseTool):\n",
    "    name: str = \"Get Category ID Tool\"\n",
    "    description: str = (\n",
    "        \"Retrieves the category ID from the restaurant_categories.json file based on the category name stored in a variable called restaurant_categories .\"\n",
    "    )\n",
    "\n",
    "    def _run(self, category: str) -> str:\n",
    "        \"\"\"\n",
    "        Retrieves the category ID from the JSON file based on the category name.\n",
    "\n",
    "        Args:\n",
    "            category_name (str): The category name to search for.\n",
    "\n",
    "        Returns:\n",
    "            str: The category ID or an error message if not found.\n",
    "        \"\"\"\n",
    "        for item in restaurant_categories:\n",
    "            if re.search(category, item[\"category_name\"], re.IGNORECASE):\n",
    "                return item\n",
    "        # If the category is not found, return an error message\n",
    "        return \"Category not found\"\n",
    "\n",
    "\n",
    "# Define geolocation_demo function\n",
    "class GetAddressTool(BaseTool):\n",
    "    name: str = \"Get Address Tool\"\n",
    "    description: str = (\n",
    "        \"Retrieves the latitude and longitude of a city, e.g. Amsterdam, using the Azure Maps REST API.\"\n",
    "    )\n",
    "\n",
    "    def _run(self, query: str) -> str:\n",
    "        \"\"\"\n",
    "        Retrieves the latitude and longitude based on the city name.\n",
    "\n",
    "        Args:\n",
    "            query (str): The place name to search for.\n",
    "\n",
    "        Returns:\n",
    "            str: The address of the place including the latitude and longitude in json format.\n",
    "        \"\"\"\n",
    "        # Retrieve the subscription key from environment variables\n",
    "        subscription_key = os.getenv(\"AzureMapsKey\")\n",
    "\n",
    "        if not subscription_key:\n",
    "            raise ValueError(\n",
    "                \"Subscription key not found in environment variables. Please set 'AZURE_SUBSCRIPTION_KEY'.\"\n",
    "            )\n",
    "\n",
    "        conn = http.client.HTTPSConnection(\"atlas.microsoft.com\")\n",
    "        # Encode the query parameter to ensure it's URL-safe\n",
    "        encoded_query = urllib.parse.quote(query)\n",
    "        # Use the encoded query and subscription key in the URL\n",
    "        conn.request(\n",
    "            \"GET\",\n",
    "            f\"/search/address/json?api-version=1.0&query={encoded_query}&subscription-key={subscription_key}\",\n",
    "        )\n",
    "        res = conn.getresponse()\n",
    "        data = res.read()\n",
    "\n",
    "        # Decode the response and load it as a JSON object\n",
    "        json_data = json.loads(data.decode(\"utf-8\"))\n",
    "\n",
    "        # Pretty-print the JSON data\n",
    "        return json.dumps(json_data, indent=4)\n",
    "    \n",
    "# Define function that retrieves restaurant information from Azure Maps REST API\n",
    "# using lon and lat coordinates as parameters\n",
    "# add the categorySet parameter to the URL to filter the search results by the restaurant category\n",
    "class GetRestaurantInfo(BaseTool):\n",
    "    name: str = \"Get Restaurant Info Tool\"\n",
    "    description: str = (\n",
    "        \"Retrieves restaurant information based on the latitude and longitude coordinates using the Azure Maps REST API.\"\n",
    "    )\n",
    "\n",
    "    def _run(self, lat: str, lon: str, categorySet: str) -> str:\n",
    "        \"\"\"\n",
    "        Retrieves restaurant information based on the latitude and longitude coordinates using the Azure Maps REST API.\n",
    "\n",
    "        Args:\n",
    "            lat (str): The latitude coordinate.\n",
    "            lon (str): The longitude coordinate.\n",
    "            categorySet (str): The category set to filter the search results.\n",
    "\n",
    "        Returns:\n",
    "            str: The restaurant information in json format.\n",
    "        \"\"\"\n",
    "        # Retrieve the subscription key from environment variables\n",
    "        subscription_key = os.getenv(\"AzureMapsKey\")\n",
    "\n",
    "        if not subscription_key:\n",
    "            raise ValueError(\n",
    "                \"Subscription key not found in environment variables. Please set 'AZURE_SUBSCRIPTION_KEY'.\"\n",
    "            )\n",
    "\n",
    "        conn = http.client.HTTPSConnection(\"atlas.microsoft.com\")\n",
    "        # Use the latitude, longitude, and categorySet parameters in the URL\n",
    "        conn.request(\n",
    "            \"GET\",\n",
    "            f\"/search/fuzzy/json?api-version=1.0&query=restaurant&lat={lat}&lon={lon}&categorySet={categorySet}&subscription-key={subscription_key}\",\n",
    "        )\n",
    "        res = conn.getresponse()\n",
    "        data = res.read()\n",
    "\n",
    "        # Decode the response and load it as a JSON object\n",
    "        json_data = json.loads(data.decode(\"utf-8\"))\n",
    "\n",
    "        # Pretty-print the JSON data\n",
    "        return json.dumps(json_data, indent=4)"
   ]
  },
  {
   "cell_type": "markdown",
   "metadata": {},
   "source": [
    "# Create CrewAI Agent\n",
    "\n",
    "Create a restaurant assistent Agent\n",
    "\n"
   ]
  },
  {
   "cell_type": "code",
   "execution_count": null,
   "metadata": {},
   "outputs": [],
   "source": [
    "restaurant_assistant = Agent(\n",
    "  role='Restaurant Assistant',\n",
    "  goal='Provide information about the restaurant recommendations based on the type of restaurant and their location',\n",
    "  backstory='I am a restaurant assistant and I can help you with restaurant recommendations based on the type of restaurant and their location.',\n",
    "  verbose=True,\n",
    "  llm=default_llm,\n",
    "  human_input_prompts=[\n",
    "    \"I am looking for a restaurant recommendation for a {category} restaurant in {location}.\",\n",
    "    \"Can you recommend a {category} restaurant in {location}?\",\n",
    "    \"I would like to know about the best {category} restaurant in {location}.\"\n",
    "  ],\n",
    "  tools=[GetCategoryIDTool(), GetAddressTool(), GetRestaurantInfo()] # Set of capabilities or functions that the agent can use to perform tasks. Expected to be instances of custom classes compatible with the agent’s execution environment. Tools are initialized with a default value of an empty list.\n",
    ")"
   ]
  },
  {
   "cell_type": "markdown",
   "metadata": {},
   "source": [
    "# Create CrewAI Task\n",
    "\n",
    "Create a restaurant recommendation Task"
   ]
  },
  {
   "cell_type": "code",
   "execution_count": null,
   "metadata": {},
   "outputs": [],
   "source": [
    "restaurant_recommendation_task = Task(\n",
    "  description='Assist with finding the best restaurants for customers based on their preferences in a specific location',\n",
    "  agent=restaurant_assistant,  # Assigning the task to the restaurant assistant\n",
    "  expected_output='A list of the top 5 restaurants for {category} food in the {location} that match the customer''s preferences',\n",
    "  human_input= False,\n",
    "  output_file='restaurant_assistant_output.md',\n",
    "  verbose=True\n",
    ")"
   ]
  },
  {
   "cell_type": "markdown",
   "metadata": {},
   "source": [
    "# Create crewAI Task\n",
    "\n",
    "Create a get category tool task"
   ]
  },
  {
   "cell_type": "code",
   "execution_count": null,
   "metadata": {},
   "outputs": [],
   "source": [
    "get_category_tool_task = Task(\n",
    "  description='Retrieve the category ID from the JSON data based on the category name.',\n",
    "  agent=restaurant_assistant,  # Assigning the task to the restaurant assistant\n",
    "  expected_output='The category ID if found, or an error message.',\n",
    "  tools=[GetCategoryIDTool()], # The functions or capabilities the agent can utilize to perform the task. Defaults to an empty list.\n",
    "  human_input= False,\n",
    "  verbose=True\n",
    ")"
   ]
  },
  {
   "cell_type": "markdown",
   "metadata": {},
   "source": [
    "# Create crewAI task\n",
    "\n",
    "Create a task to find the location for which the user is asking a restaurant recommendation"
   ]
  },
  {
   "cell_type": "code",
   "execution_count": null,
   "metadata": {},
   "outputs": [],
   "source": [
    "get_restaurant_location_task = Task(\n",
    "    description='Retrieve the location of the restaurant based on the user input.',\n",
    "    agent=restaurant_assistant,\n",
    "    expected_output='The location of the restaurant if found, or an error message.',\n",
    "    tools=[GetAddressTool()], # The functions or capabilities the agent can utilize to perform the task. Defaults to an empty list.\n",
    "    human_input=False,\n",
    "    verbose=True\n",
    ")"
   ]
  },
  {
   "cell_type": "markdown",
   "metadata": {},
   "source": [
    "# Create crewAI task\n",
    "\n",
    "Create a task to find all the restaurants for the location (lat, lon) and category."
   ]
  },
  {
   "cell_type": "code",
   "execution_count": null,
   "metadata": {},
   "outputs": [],
   "source": [
    "get_restaurant_info_task = Task(\n",
    "    description='Retrieve restaurant information based on the latitude and longitude coordinates.',\n",
    "    agent=restaurant_assistant,\n",
    "    expected_output='The restaurant information in json format.',\n",
    "    tools=[GetRestaurantInfo()], # The functions or capabilities the agent can utilize to perform the task. Defaults to an empty list.\n",
    "    human_input=False,\n",
    "    verbose=True\n",
    ")"
   ]
  },
  {
   "cell_type": "markdown",
   "metadata": {},
   "source": [
    "# Instantiate crew\n",
    "\n",
    "Now it's time to instantiate the crew and start the task execution"
   ]
  },
  {
   "cell_type": "code",
   "execution_count": null,
   "metadata": {},
   "outputs": [],
   "source": [
    "# Create a Crew instance with the restaurant assistant agent and the tasks\n",
    "# Why do I need to specify the inputs here? Cannot I just pass the following input? \n",
    "# \"I'm hungry, I want a Mexican restaurant in Haarlem\"\n",
    "inputs = {\n",
    "    \"category\": \"Mexican\",\n",
    "    \"location\": \"Halfweg, the Netherlands\",\n",
    "    \"topic\": \"restaurant recommendation for a Mexican restaurant in Halfweg\"\n",
    "}\n",
    "\n",
    "crew = Crew(\n",
    "    agents=[restaurant_assistant],\n",
    "    tasks=[restaurant_recommendation_task, get_category_tool_task, get_restaurant_location_task, get_restaurant_info_task],\n",
    "    process=Process.sequential,\n",
    "    inputs=inputs, # Why do I need to add this attribute here?\n",
    "    verbose=True,\n",
    ")\n",
    "\n",
    "# Begin the task execution\n",
    "crew.kickoff(inputs=inputs)\n"
   ]
  }
 ],
 "metadata": {
  "kernelspec": {
   "display_name": ".venv",
   "language": "python",
   "name": "python3"
  },
  "language_info": {
   "codemirror_mode": {
    "name": "ipython",
    "version": 3
   },
   "file_extension": ".py",
   "mimetype": "text/x-python",
   "name": "python",
   "nbconvert_exporter": "python",
   "pygments_lexer": "ipython3",
   "version": "3.12.7"
  }
 },
 "nbformat": 4,
 "nbformat_minor": 2
}
