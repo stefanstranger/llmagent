{
 "cells": [
  {
   "cell_type": "markdown",
   "metadata": {},
   "source": [
    "# Demo CrewAi\n",
    "\n",
    "In this Notebook we are going to demo how to use CrewAI with Azure OpenAI to create a restaurant recommendation assistant.\n",
    "\n",
    "In this example we are going to use crewAI tools.\n",
    "\n",
    "You can find more information about tools [here](https://github.com/crewAIInc/crewAI-tools)\n",
    "\n",
    "1. **Install CrewAI**: First, we need to install the CrewAI package using pip.\n",
    "2. **Configure Azure OpenAI Environment Variables**: Set up the necessary environment variables for Azure OpenAI.\n",
    "3. **Import Python Modules**: Import the required Python modules for the demo.\n",
    "4. **Define the Default LLM**: Set up the default language model using AzureChatOpenAI.\n",
    "5. **Load Restaurant Categories**: Load the list of restaurant categories from a JSON file.\n",
    "6. **Define CrewAI Tools**: Create tools for retrieving category IDs, addresses, and restaurant information.\n",
    "7. **Create CrewAI Agent**: Define an agent with a specific role, goal, and tools.\n",
    "8. **Create CrewAI Tasks**: Set up tasks for restaurant recommendations, category retrieval, and location finding.\n",
    "9. **Instantiate Crew**: Create a Crew instance with the agent and tasks, and start the task execution.\n",
    "\n",
    "Let get started with installing CrewAI!\n",
    "\n",
    "\n",
    "## Questions\n",
    "\n",
    "1. Where do I need to configure the tools? At the Agent, Task and or Crew?\n",
    "2. Why do I need to configure category and location as input values for the Crew?\n",
    "3. Why is keeps the crew running while the answer is given?\n",
    "\n",
    "## References\n",
    "\n",
    "- [I Created a CUSTOM AI Tool with CrewAI](https://www.google.com/search?q=crewai+tools+show+how+to+create+a+custom+tool&sca_esv=d29dcacd0903cf12&sxsrf=ADLYWIKoibXGp5VjDpt6pGktNyRBipnP3Q%3A1731753760079&ei=IHc4Z8q2BOupi-gP_eqFcA&ved=0ahUKEwjKxtS91eCJAxXr1AIHHX11AQ4Q4dUDCA8&uact=5&oq=crewai+tools+show+how+to+create+a+custom+tool&gs_lp=Egxnd3Mtd2l6LXNlcnAiLWNyZXdhaSB0b29scyBzaG93IGhvdyB0byBjcmVhdGUgYSBjdXN0b20gdG9vbDIFECEYoAEyBRAhGKABSIUzUNUMWIktcAF4AJABAJgBowGgAa0WqgEEMjguNbgBA8gBAPgBAZgCIaAC3RXCAgoQABiwAxjWBBhHwgIGEAAYFhgewgIIEAAYFhgKGB7CAgsQABiABBiGAxiKBcICCBAAGIAEGKIEwgIHECEYoAEYCsICBRAhGJIDwgIEECEYFZgDAIgGAZAGCJIHBDI4LjWgB7OPAQ&sclient=gws-wiz-serp#fpstate=ive&vld=cid:b4443448,vid:rcmMK-zkxrQ,st:142)\n",
    "- [Tyler programmaming - Day04 Crew](https://github.com/tylerprogramming/ai/blob/main/crewai_series/day_04/src/day_04/config/agents.yaml)"
   ]
  },
  {
   "cell_type": "code",
   "execution_count": 100,
   "metadata": {},
   "outputs": [
    {
     "name": "stdout",
     "output_type": "stream",
     "text": [
      "Note: you may need to restart the kernel to use updated packages.\n"
     ]
    }
   ],
   "source": [
    "%pip install -q crewai"
   ]
  },
  {
   "cell_type": "markdown",
   "metadata": {},
   "source": [
    "# Configure Azure OpenAI environment variables"
   ]
  },
  {
   "cell_type": "code",
   "execution_count": 101,
   "metadata": {},
   "outputs": [
    {
     "name": "stdout",
     "output_type": "stream",
     "text": [
      "Loaded environment variables for CrewAi demo\n"
     ]
    }
   ],
   "source": [
    "import os\n",
    "\n",
    "os.environ[\"AZURE_OPENAI_VERSION\"] = \"2023-03-15-preview\"\n",
    "os.environ[\"AZURE_OPENAI_DEPLOYMENT\"] = \"gpt-4o\"\n",
    "os.environ[\"AZURE_OPENAI_ENDPOINT\"] = \"https://fabricaio.openai.azure.com\"\n",
    "# Read the environment variable. \n",
    "azure_openai_key = os.getenv(\"AZURE_API_KEY\")\n",
    "\n",
    "\n",
    "print(\"Loaded environment variables for CrewAi demo\")"
   ]
  },
  {
   "cell_type": "markdown",
   "metadata": {},
   "source": [
    "## Import Python Modules\n",
    "\n",
    "Below code will imports the required Python Modules"
   ]
  },
  {
   "cell_type": "code",
   "execution_count": 102,
   "metadata": {},
   "outputs": [],
   "source": [
    "from crewai import Agent, Task, Process, Crew\n",
    "import os\n",
    "from langchain_openai import AzureChatOpenAI\n",
    "import json\n"
   ]
  },
  {
   "cell_type": "markdown",
   "metadata": {},
   "source": [
    "# Define the default LLM"
   ]
  },
  {
   "cell_type": "code",
   "execution_count": 103,
   "metadata": {},
   "outputs": [],
   "source": [
    "default_llm = AzureChatOpenAI(\n",
    "    openai_api_version=os.environ.get(\"AZURE_OPENAI_VERSION\", \"2023-07-01-preview\"),\n",
    "    azure_deployment=os.environ.get(\"AZURE_OPENAI_DEPLOYMENT\", \"gpt-4o\"),\n",
    "    azure_endpoint=os.environ.get(\"AZURE_OPENAI_ENDPOINT\", \"https://fabricaio.openai.azure.com/\"),\n",
    "    api_key=azure_openai_key\n",
    ")"
   ]
  },
  {
   "cell_type": "markdown",
   "metadata": {},
   "source": [
    "# Load list of Azure Maps Restaurant Categories\n",
    "\n",
    "Azure Maps uses restaurant categories and these are stored in a json file that needs to be loaded."
   ]
  },
  {
   "cell_type": "code",
   "execution_count": 104,
   "metadata": {},
   "outputs": [
    {
     "name": "stdout",
     "output_type": "stream",
     "text": [
      "[{'category_id': '7315002', 'parent_id': '7315', 'category_name': 'African Restaurant', 'synonums': 'African Food,African Cuisine'}, {'category_id': '7315003', 'parent_id': '7315', 'category_name': 'American Restaurant', 'synonums': 'American Cuisine,American Food'}, {'category_id': '7315004', 'parent_id': '7315', 'category_name': 'Austrian Restaurant', 'synonums': 'Austrian Cuisine,Austrian Food'}, {'category_id': '7315005', 'parent_id': '7315', 'category_name': 'Barbecue Restaurant', 'synonums': 'Barbecue,Barbecue Food,BBQ,BBQ Restaurant,Barbecue Cuisine'}, {'category_id': '7315006', 'parent_id': '7315', 'category_name': 'Belgian Restaurant', 'synonums': 'Belgian Food,Belgian Cuisine'}, {'category_id': '7315007', 'parent_id': '7315', 'category_name': 'Bistro', 'synonums': None}, {'category_id': '7315008', 'parent_id': '7315', 'category_name': 'British Restaurant', 'synonums': 'British Cuisine,British Food'}, {'category_id': '7315009', 'parent_id': '7315', 'category_name': 'Californian Restaurant', 'synonums': 'Californian Cuisine,Californian Food'}, {'category_id': '7315010', 'parent_id': '7315', 'category_name': 'Canadian Restaurant', 'synonums': 'Canadian Cuisine,Canadian Food'}, {'category_id': '7315011', 'parent_id': '7315', 'category_name': 'Caribbean Restaurant', 'synonums': 'Caribbean Food,Caribbean Cuisine'}, {'category_id': '7315012', 'parent_id': '7315', 'category_name': 'Chinese Restaurant', 'synonums': 'Chinese Cuisine,Chinese Food'}, {'category_id': '7315013', 'parent_id': '7315', 'category_name': 'Crâ”œÂ¬perie', 'synonums': 'Pancake House'}, {'category_id': '7315014', 'parent_id': '7315', 'category_name': 'Dutch Restaurant', 'synonums': 'Dutch Food,Dutch Cuisine'}, {'category_id': '7315015', 'parent_id': '7315', 'category_name': 'Fast Food', 'synonums': 'Fastfood Restaurant,Fast Food Restaurant'}, {'category_id': '7315016', 'parent_id': '7315', 'category_name': 'Philippine Restaurant', 'synonums': 'Philippine Food,Philippine Cuisine'}, {'category_id': '7315017', 'parent_id': '7315', 'category_name': 'French Restaurant', 'synonums': 'French Food,French Cuisine'}, {'category_id': '7315018', 'parent_id': '7315', 'category_name': 'German Restaurant', 'synonums': 'German Cuisine,German Food'}, {'category_id': '7315019', 'parent_id': '7315', 'category_name': 'Greek Restaurant', 'synonums': 'Greek Food,Greek Cuisine'}, {'category_id': '7315020', 'parent_id': '7315', 'category_name': 'Grill Restaurant', 'synonums': 'Grill Cuisine,Grill Food,Tandoor Shop,Grill'}, {'category_id': '7315021', 'parent_id': '7315', 'category_name': 'Hawaiian Restaurant', 'synonums': 'Hawaiian Food,Hawaiian Cuisine'}, {'category_id': '7315022', 'parent_id': '7315', 'category_name': 'Hungarian Restaurant', 'synonums': 'Hungarian Food,Hungarian Cuisine'}, {'category_id': '7315023', 'parent_id': '7315', 'category_name': 'Indian Restaurant', 'synonums': 'Indian Cuisine,Indian Food'}, {'category_id': '7315024', 'parent_id': '7315', 'category_name': 'Indonesian Restaurant', 'synonums': 'Indonesian Food,Indonesian Cuisine'}, {'category_id': '7315025', 'parent_id': '7315', 'category_name': 'Italian Restaurant', 'synonums': 'Italian Cuisine,Italian Food'}, {'category_id': '7315026', 'parent_id': '7315', 'category_name': 'Japanese Restaurant', 'synonums': 'Japanese Food,Japanese Cuisine'}, {'category_id': '7315027', 'parent_id': '7315', 'category_name': 'Jewish Restaurant', 'synonums': 'Jewish Cuisine,Jewish Food'}, {'category_id': '7315028', 'parent_id': '7315', 'category_name': 'Korean Restaurant', 'synonums': 'Korean Cuisine,Korean Food'}, {'category_id': '7315029', 'parent_id': '7315', 'category_name': 'Latin American Restaurant', 'synonums': 'Latin American Cuisine,Latin American Food'}, {'category_id': '7315030', 'parent_id': '7315', 'category_name': 'Lebanese Restaurant', 'synonums': 'Lebanese Cuisine,Lebanese Food'}, {'category_id': '7315031', 'parent_id': '7315', 'category_name': 'Maltese Restaurant', 'synonums': 'Maltese Cuisine,Maltese Food'}, {'category_id': '7315032', 'parent_id': '7315', 'category_name': 'Mediterranean Restaurant', 'synonums': 'Mediterranean Cuisine,Mediterranean Food'}, {'category_id': '7315033', 'parent_id': '7315', 'category_name': 'Mexican Restaurant', 'synonums': 'Mexican Food,Mexican Cuisine'}, {'category_id': '7315034', 'parent_id': '7315', 'category_name': 'Middle Eastern Restaurant', 'synonums': 'Middle Eastern Food,Middle Eastern Cuisine'}, {'category_id': '7315035', 'parent_id': '7315', 'category_name': 'Oriental Restaurant', 'synonums': 'Oriental Food,Oriental Cuisine'}, {'category_id': '7315036', 'parent_id': '7315', 'category_name': 'Pizzeria', 'synonums': 'Pizza Parlor,Pizza Restaurant,Pizzaria,Pizza,Pizza Shop'}, {'category_id': '7315037', 'parent_id': '7315', 'category_name': 'Polish Restaurant', 'synonums': 'Polish Cuisine,Polish Food'}, {'category_id': '7315038', 'parent_id': '7315', 'category_name': 'Portuguese Restaurant', 'synonums': 'Portuguese Cuisine,Portuguese Food'}, {'category_id': '7315039', 'parent_id': '7315', 'category_name': 'Pub Food', 'synonums': 'Bar Food,Bar Snacks'}, {'category_id': '7315040', 'parent_id': '7315', 'category_name': 'Russian Restaurant', 'synonums': 'Russian Cuisine,Russian Food'}, {'category_id': '7315041', 'parent_id': '7315', 'category_name': 'Roadside Restaurant', 'synonums': 'Food Joint,Road House,Roadhouse,Diner'}, {'category_id': '7315042', 'parent_id': '7315', 'category_name': 'Sandwich Restaurant', 'synonums': 'Submarine Sandwich,Sub Shop,Sandwich Bar,Subs,Sandwiches,Sandwich Shop,Sandwich Corner,Sandwich'}, {'category_id': '7315043', 'parent_id': '7315', 'category_name': 'Seafood', 'synonums': 'Seafood Restaurant'}, {'category_id': '7315044', 'parent_id': '7315', 'category_name': 'Spanish Restaurant', 'synonums': 'Spanish Cuisine,Spanish Food'}, {'category_id': '7315045', 'parent_id': '7315', 'category_name': 'Steak House', 'synonums': 'Steakhouse,Steak Restaurant'}, {'category_id': '7315046', 'parent_id': '7315', 'category_name': 'Surinamese Restaurant', 'synonums': 'Surinamese Food,Surinamese Cuisine'}, {'category_id': '7315047', 'parent_id': '7315', 'category_name': 'Swiss Restaurant', 'synonums': 'Swiss Food,Swiss Cuisine'}, {'category_id': '7315048', 'parent_id': '7315', 'category_name': 'Thai Restaurant', 'synonums': 'Thai Food,Thai Cuisine'}, {'category_id': '7315049', 'parent_id': '7315', 'category_name': 'Turkish Restaurant', 'synonums': 'Turkish Cuisine,Turkish Food'}, {'category_id': '7315050', 'parent_id': '7315', 'category_name': 'Vegetarian Restaurant', 'synonums': 'Vegetarian Food,Vegetarian Cuisine'}, {'category_id': '7315051', 'parent_id': '7315', 'category_name': 'Vietnamese Restaurant', 'synonums': 'Vietnamese Food,Vietnamese Cuisine'}, {'category_id': '7315052', 'parent_id': '7315', 'category_name': 'Hunan Restaurant', 'synonums': 'Xiang Food,Xiang Restaurant,Hunan Cuisine,Xiang Cuisine,Hunan Food'}, {'category_id': '7315053', 'parent_id': '7315', 'category_name': 'Shandong Restaurant', 'synonums': 'Shandong Cuisine,Lu Cuisine,Shandong Food'}, {'category_id': '7315054', 'parent_id': '7315', 'category_name': 'Guangdong Restaurant', 'synonums': 'Cantonese Restaurant,Guangdong Cuisine,Cantonese Cuisine,Cantonese Food,Guangdong Food'}, {'category_id': '7315055', 'parent_id': '7315', 'category_name': 'Shanghai Restaurant', 'synonums': 'Shanghai Cuisine,Shanghai Food,Hu Cuisine'}, {'category_id': '7315056', 'parent_id': '7315', 'category_name': 'Sichuan Restaurant', 'synonums': 'Szechwan Cuisine,Szechuan Restaurant,Sichuan Food,Szechuan Cuisine,Sichuan Cuisine,Szechuan Food'}, {'category_id': '7315057', 'parent_id': '7315', 'category_name': 'Dongbei Restaurant', 'synonums': 'Dongbei Cuisine,Dongbei Food'}, {'category_id': '7315058', 'parent_id': '7315', 'category_name': 'Hot Pot Restaurant', 'synonums': None}, {'category_id': '7315059', 'parent_id': '7315', 'category_name': 'Taiwanese Restaurant', 'synonums': 'Taiwanese Cuisine,Taiwanese Food'}, {'category_id': '7315060', 'parent_id': '7315', 'category_name': 'Western Restaurant', 'synonums': 'Western Food,Western Cuisine'}, {'category_id': '7315061', 'parent_id': '7315', 'category_name': 'Peruvian Restaurant', 'synonums': 'Peruvian Cuisine,Peruvian Food'}, {'category_id': '7315062', 'parent_id': '7315', 'category_name': 'Asian Restaurant', 'synonums': 'Asian Cuisine,Asian Food'}, {'category_id': '7315063', 'parent_id': '7315', 'category_name': 'Creole Restaurant', 'synonums': 'Creole Food,Creole Cuisine'}, {'category_id': '7315064', 'parent_id': '7315', 'category_name': 'Soul Food', 'synonums': 'Southern Restaurant,Southern Food,Southern Cuisine'}, {'category_id': '7315065', 'parent_id': '7315', 'category_name': 'Irish Restaurant', 'synonums': 'Irish Food,Irish Cuisine'}, {'category_id': '7315066', 'parent_id': '7315', 'category_name': 'Jamaican Restaurant', 'synonums': 'Jamaican Cuisine,Jamaican Food'}, {'category_id': '7315067', 'parent_id': '7315', 'category_name': 'Kosher Restaurant', 'synonums': 'Kosher Cuisine,Kosher Food'}, {'category_id': '7315068', 'parent_id': '7315', 'category_name': 'Czech Restaurant', 'synonums': 'Czech Cuisine,Czech Food'}, {'category_id': '7315069', 'parent_id': '7315', 'category_name': 'Hamburger Restaurant', 'synonums': 'Burgers,Hamburgers,Burger Joint'}, {'category_id': '7315070', 'parent_id': '7315', 'category_name': 'Chicken Restaurant', 'synonums': None}, {'category_id': '7315071', 'parent_id': '7315', 'category_name': 'Fusion Restaurant', 'synonums': 'Fusion Cuisine,Fusion Food'}, {'category_id': '7315072', 'parent_id': '7315', 'category_name': 'Brazilian Restaurant', 'synonums': 'Brazilian Cuisine,Brazilian Food'}, {'category_id': '7315073', 'parent_id': '7315', 'category_name': 'International Restaurant', 'synonums': 'International Food,International Cuisine'}, {'category_id': '7315074', 'parent_id': '7315', 'category_name': 'Moroccan Restaurant', 'synonums': 'Moroccan Cuisine,Moroccan Food'}, {'category_id': '7315075', 'parent_id': '7315', 'category_name': 'Organic Food Restaurant', 'synonums': 'Organic Food,Organic Cuisine,Organic Restaurant'}, {'category_id': '7315076', 'parent_id': '7315', 'category_name': 'Tapas Restaurant', 'synonums': 'Tapas Bar,Tapas'}, {'category_id': '7315078', 'parent_id': '7315', 'category_name': 'Ice Cream Parlor', 'synonums': None}, {'category_id': '7315079', 'parent_id': '7315', 'category_name': 'Doughnut Restaurant', 'synonums': 'Doughnut Shop,Doughnuts,Donut Restaurant,Donuts'}, {'category_id': '7315080', 'parent_id': '7315', 'category_name': 'Slovak Restaurant', 'synonums': 'Slovak Cuisine,Slovak Food'}, {'category_id': '7315081', 'parent_id': '7315', 'category_name': 'Afghan Restaurant', 'synonums': 'Afghan Cuisine,Afghan Food'}, {'category_id': '7315082', 'parent_id': '7315', 'category_name': 'Algerian Restaurant', 'synonums': 'Algerian Food,Algerian Cuisine'}, {'category_id': '7315083', 'parent_id': '7315', 'category_name': 'Arabian Restaurant', 'synonums': 'Arab Cuisine,Arab Food,Arabian Cuisine,Arab Restaurant,Arabian Food'}, {'category_id': '7315084', 'parent_id': '7315', 'category_name': 'Argentinian Restaurant', 'synonums': 'Argentine Restaurant,Argentinian Cuisine,Argentine Food,Argentinian Food,Argentine Cuisine'}, {'category_id': '7315085', 'parent_id': '7315', 'category_name': 'Armenian Restaurant', 'synonums': 'Armenian Food,Armenian Cuisine'}, {'category_id': '7315086', 'parent_id': '7315', 'category_name': 'Australian Restaurant', 'synonums': 'Australian Cuisine,Australian Food'}, {'category_id': '7315087', 'parent_id': '7315', 'category_name': 'Basque Restaurant', 'synonums': 'Basque Cuisine,Basque Food'}, {'category_id': '7315088', 'parent_id': '7315', 'category_name': 'Bolivian Restaurant', 'synonums': 'Bolivian Food,Bolivian Cuisine'}, {'category_id': '7315089', 'parent_id': '7315', 'category_name': 'Bosnian Restaurant', 'synonums': 'Bosnian Cuisine,Bosnian Food'}, {'category_id': '7315090', 'parent_id': '7315', 'category_name': 'Bulgarian Restaurant', 'synonums': 'Bulgarian Food,Bulgarian Cuisine'}, {'category_id': '7315091', 'parent_id': '7315', 'category_name': 'Burmese Restaurant', 'synonums': 'Burmese Food,Burmese Cuisine'}, {'category_id': '7315092', 'parent_id': '7315', 'category_name': 'Cambodian Restaurant', 'synonums': 'Cambodian Food,Cambodian Cuisine'}, {'category_id': '7315093', 'parent_id': '7315', 'category_name': 'Chilean Restaurant', 'synonums': 'Chilean Food,Chilean Cuisine'}, {'category_id': '7315094', 'parent_id': '7315', 'category_name': 'Colombian Restaurant', 'synonums': 'Colombian Cuisine,Colombian Food'}, {'category_id': '7315095', 'parent_id': '7315', 'category_name': 'Corsican Restaurant', 'synonums': 'Corsican Cuisine,Corsican Food'}, {'category_id': '7315096', 'parent_id': '7315', 'category_name': 'Cuban Restaurant', 'synonums': 'Cuban Cuisine,Cuban Food'}, {'category_id': '7315097', 'parent_id': '7315', 'category_name': 'Cypriot Restaurant', 'synonums': 'Cypriot Food,Cypriot Cuisine'}, {'category_id': '7315098', 'parent_id': '7315', 'category_name': 'Danish Restaurant', 'synonums': 'Danish Food,Danish Cuisine'}, {'category_id': '7315099', 'parent_id': '7315', 'category_name': 'Dominican Restaurant', 'synonums': 'Dominican Food,Dominican Cuisine'}, {'category_id': '7315100', 'parent_id': '7315', 'category_name': 'Egyptian Restaurant', 'synonums': 'Egyptian Cuisine,Egyptian Food'}, {'category_id': '7315101', 'parent_id': '7315', 'category_name': 'English Restaurant', 'synonums': 'English Food,English Cuisine'}, {'category_id': '7315102', 'parent_id': '7315', 'category_name': 'Ethiopian Restaurant', 'synonums': 'Ethiopian Food,Ethiopian Cuisine'}, {'category_id': '7315104', 'parent_id': '7315', 'category_name': 'Finnish Restaurant', 'synonums': 'Finnish Cuisine,Finnish Food'}, {'category_id': '7315105', 'parent_id': '7315', 'category_name': 'Iranian Restaurant', 'synonums': 'Iranian Cuisine,Iranian Food'}, {'category_id': '7315106', 'parent_id': '7315', 'category_name': 'Israeli Restaurant', 'synonums': 'Israeli Cuisine,Israeli Food'}, {'category_id': '7315107', 'parent_id': '7315', 'category_name': 'Luxembourgian Restaurant', 'synonums': 'Luxembourgian Cuisine,Luxembourgian Food'}, {'category_id': '7315108', 'parent_id': '7315', 'category_name': 'Maghrib Restaurant', 'synonums': 'Maghrib Cuisine,Maghrib Food,Maghreb Food,Maghreb Cuisine,Maghreb Restaurant'}, {'category_id': '7315109', 'parent_id': '7315', 'category_name': 'Mauritian Restaurant', 'synonums': 'Mauritian Food,Mauritian Cuisine'}, {'category_id': '7315110', 'parent_id': '7315', 'category_name': 'Mongolian Restaurant', 'synonums': 'Mongolian Cuisine,Mongolian Food'}, {'category_id': '7315111', 'parent_id': '7315', 'category_name': 'Nepalese Restaurant', 'synonums': 'Nepalese Food,Nepalese Cuisine'}, {'category_id': '7315112', 'parent_id': '7315', 'category_name': 'Norwegian Restaurant', 'synonums': 'Norwegian Cuisine,Norwegian Food'}, {'category_id': '7315113', 'parent_id': '7315', 'category_name': 'Savoy Restaurant', 'synonums': 'Savoy Cuisine,Savoy Food'}, {'category_id': '7315114', 'parent_id': '7315', 'category_name': 'Scandinavian Restaurant', 'synonums': 'Scandinavian Food,Scandinavian Cuisine'}, {'category_id': '7315115', 'parent_id': '7315', 'category_name': 'Scottish Restaurant', 'synonums': 'Scottish Cuisine,Scottish Food'}, {'category_id': '7315116', 'parent_id': '7315', 'category_name': 'Sicilian Restaurant', 'synonums': 'Sicilian Cuisine,Sicilian Food'}, {'category_id': '7315117', 'parent_id': '7315', 'category_name': 'Slavic Restaurant', 'synonums': 'Slavic Food,Slavic Cuisine'}, {'category_id': '7315118', 'parent_id': '7315', 'category_name': 'Sudanese Restaurant', 'synonums': 'Sudanese Food,Sudanese Cuisine'}, {'category_id': '7315119', 'parent_id': '7315', 'category_name': 'Swedish Restaurant', 'synonums': 'Swedish Food,Swedish Cuisine'}, {'category_id': '7315120', 'parent_id': '7315', 'category_name': 'Syrian Restaurant', 'synonums': 'Syrian Cuisine,Syrian Food'}, {'category_id': '7315121', 'parent_id': '7315', 'category_name': 'Teppanyaki Restaurant', 'synonums': 'Teppanyaki Cuisine,Teppanyaki Food'}, {'category_id': '7315122', 'parent_id': '7315', 'category_name': 'Tibetan Restaurant', 'synonums': 'Tibetan Cuisine,Tibetan Food'}, {'category_id': '7315123', 'parent_id': '7315', 'category_name': 'Tunisian Restaurant', 'synonums': 'Tunisian Cuisine,Tunisian Food'}, {'category_id': '7315124', 'parent_id': '7315', 'category_name': 'Uruguayan Restaurant', 'synonums': 'Uruguayan Food,Uruguayan Cuisine'}, {'category_id': '7315125', 'parent_id': '7315', 'category_name': 'Venezuelan Restaurant', 'synonums': 'Venezuelan Food,Venezuelan Cuisine'}, {'category_id': '7315126', 'parent_id': '7315', 'category_name': 'Welsh Restaurant', 'synonums': 'Welsh Food,Welsh Cuisine'}, {'category_id': '7315127', 'parent_id': '7315', 'category_name': 'Pakistani Restaurant', 'synonums': 'Pakistani Cuisine,Pakistani Food'}, {'category_id': '7315129', 'parent_id': '7315', 'category_name': 'Polynesian Restaurant', 'synonums': 'Polynesian Cuisine,Polynesian Food'}, {'category_id': '7315130', 'parent_id': '7315', 'category_name': 'Provenâ”œÂºal Restaurant', 'synonums': 'Provenâ”œÂºal Cuisine,Provenâ”œÂºal Food'}, {'category_id': '7315131', 'parent_id': '7315', 'category_name': 'Romanian Restaurant', 'synonums': 'Rumanian Cuisine,Rumanian Food,Romanian Cuisine,Romanian Food'}, {'category_id': '7315132', 'parent_id': '7315', 'category_name': 'Erotic Restaurant', 'synonums': None}, {'category_id': '7315133', 'parent_id': '7315', 'category_name': 'Exotic Restaurant', 'synonums': 'Exotic Cuisine,Exotic Food'}, {'category_id': '7315134', 'parent_id': '7315', 'category_name': 'Fondue Restaurant', 'synonums': None}, {'category_id': '7315135', 'parent_id': '7315', 'category_name': 'Macrobiotic Restaurant', 'synonums': 'Macrobiotic Cuisine,Macrobiotic Food'}, {'category_id': '7315136', 'parent_id': '7315', 'category_name': 'Mussels Restaurant', 'synonums': 'Mussels'}, {'category_id': '7315139', 'parent_id': '7315', 'category_name': 'Snacks Restaurant', 'synonums': 'Snack Bar,Snacks Centre'}, {'category_id': '7315140', 'parent_id': '7315', 'category_name': 'Soup Restaurant', 'synonums': 'Soup'}, {'category_id': '7315142', 'parent_id': '7315', 'category_name': 'Buffet Restaurant', 'synonums': 'Buffet'}, {'category_id': '7315143', 'parent_id': '7315', 'category_name': 'Salad Bar', 'synonums': 'Salad'}, {'category_id': '7315145', 'parent_id': '7315', 'category_name': 'Takeout Food', 'synonums': 'Take Away,Take Out,Takeaway,Carry-out,To Go,Take-out,Takeaway Food,Take Away Food,Takeout,Takeout Restaurant'}, {'category_id': '7315146', 'parent_id': '7315', 'category_name': 'Banquet Rooms', 'synonums': 'Banqueting Room,Banquet Restaurant,Function Room,Function Hall,Banquet Hall'}, {'category_id': '7315147', 'parent_id': '7315', 'category_name': 'Cafeteria', 'synonums': 'Cafetaria'}, {'category_id': '7315148', 'parent_id': '7315', 'category_name': 'Sushi Restaurant', 'synonums': 'Sushi House,Sushi Bar'}]\n"
     ]
    }
   ],
   "source": [
    "script_dir = 'C://Github//llmagents//crewainotebook'\n",
    "\n",
    "# Construct the path to the JSON file\n",
    "json_file_name = \"restaurant_categories.json\"\n",
    "json_file_path = os.path.join(script_dir, json_file_name)\n",
    "# Open and load the JSON file\n",
    "with open(json_file_path, 'r') as file:\n",
    "    restaurant_categories  = json.load(file)\n",
    "    \n",
    "print(restaurant_categories)"
   ]
  },
  {
   "cell_type": "markdown",
   "metadata": {},
   "source": [
    "\n",
    "# Define CrewAI Tools\n",
    "\n",
    "This section defines the following tools used in the CrewAI restaurant assistant demo:\n",
    "- get_category_name: A function that retrieves the category name of a restaurant based on its ID or other identifying information.\n",
    "- get_address: A function that fetches the address of a restaurant given its ID or other identifying information.\n",
    "- get_restaurant_info: A function that gathers comprehensive information about a restaurant, including its name, address, category, and other relevant details.\n",
    "\n",
    "These tools are essential for the functionality of the restaurant assistant, enabling it to provide accurate and detailed information about various restaurants.\n"
   ]
  },
  {
   "cell_type": "code",
   "execution_count": 105,
   "metadata": {},
   "outputs": [],
   "source": [
    "from crewai_tools import BaseTool\n",
    "import re\n",
    "import http.client\n",
    "import urllib.parse\n",
    "\n",
    "\n",
    "# Define a tool that retrieves the category ID from the restaurant_categories.json file based on the category name\n",
    "class GetCategoryIDTool(BaseTool):\n",
    "    name: str = \"Get Category ID Tool\"\n",
    "    description: str = (\n",
    "        \"Retrieves the category ID from the restaurant_categories.json file based on the category name stored in a variable called restaurant_categories .\"\n",
    "    )\n",
    "\n",
    "    def _run(self, category: str) -> str:\n",
    "        \"\"\"\n",
    "        Retrieves the category ID from the JSON file based on the category name.\n",
    "\n",
    "        Args:\n",
    "            category_name (str): The category name to search for.\n",
    "\n",
    "        Returns:\n",
    "            str: The category ID or an error message if not found.\n",
    "        \"\"\"\n",
    "        for item in restaurant_categories:\n",
    "            if re.search(category, item[\"category_name\"], re.IGNORECASE):\n",
    "                return item\n",
    "        # If the category is not found, return an error message\n",
    "        return \"Category not found\"\n",
    "\n",
    "\n",
    "# Define geolocation_demo function\n",
    "class GetAddressTool(BaseTool):\n",
    "    name: str = \"Get Address Tool\"\n",
    "    description: str = (\n",
    "        \"Retrieves the latitude and longitude of a city, e.g. Amsterdam, using the Azure Maps REST API.\"\n",
    "    )\n",
    "\n",
    "    def _run(self, query: str) -> str:\n",
    "        \"\"\"\n",
    "        Retrieves the latitude and longitude based on the city name.\n",
    "\n",
    "        Args:\n",
    "            query (str): The place name to search for.\n",
    "\n",
    "        Returns:\n",
    "            str: The address of the place including the latitude and longitude in json format.\n",
    "        \"\"\"\n",
    "        # Retrieve the subscription key from environment variables\n",
    "        subscription_key = os.getenv(\"AzureMapsKey\")\n",
    "\n",
    "        if not subscription_key:\n",
    "            raise ValueError(\n",
    "                \"Subscription key not found in environment variables. Please set 'AZURE_SUBSCRIPTION_KEY'.\"\n",
    "            )\n",
    "\n",
    "        conn = http.client.HTTPSConnection(\"atlas.microsoft.com\")\n",
    "        # Encode the query parameter to ensure it's URL-safe\n",
    "        encoded_query = urllib.parse.quote(query)\n",
    "        # Use the encoded query and subscription key in the URL\n",
    "        conn.request(\n",
    "            \"GET\",\n",
    "            f\"/search/address/json?api-version=1.0&query={encoded_query}&subscription-key={subscription_key}\",\n",
    "        )\n",
    "        res = conn.getresponse()\n",
    "        data = res.read()\n",
    "\n",
    "        # Decode the response and load it as a JSON object\n",
    "        json_data = json.loads(data.decode(\"utf-8\"))\n",
    "\n",
    "        # Pretty-print the JSON data\n",
    "        return json.dumps(json_data, indent=4)\n",
    "    \n",
    "# Define function that retrieves restaurant information from Azure Maps REST API\n",
    "# using lon and lat coordinates as parameters\n",
    "# add the categorySet parameter to the URL to filter the search results by the restaurant category\n",
    "class GetRestaurantInfo(BaseTool):\n",
    "    name: str = \"Get Restaurant Info Tool\"\n",
    "    description: str = (\n",
    "        \"Retrieves restaurant information based on the latitude and longitude coordinates using the Azure Maps REST API.\"\n",
    "    )\n",
    "\n",
    "    def _run(self, lat: str, lon: str, categorySet: str) -> str:\n",
    "        \"\"\"\n",
    "        Retrieves restaurant information based on the latitude and longitude coordinates using the Azure Maps REST API.\n",
    "\n",
    "        Args:\n",
    "            lat (str): The latitude coordinate.\n",
    "            lon (str): The longitude coordinate.\n",
    "            categorySet (str): The category set to filter the search results.\n",
    "\n",
    "        Returns:\n",
    "            str: The restaurant information in json format.\n",
    "        \"\"\"\n",
    "        # Retrieve the subscription key from environment variables\n",
    "        subscription_key = os.getenv(\"AzureMapsKey\")\n",
    "\n",
    "        if not subscription_key:\n",
    "            raise ValueError(\n",
    "                \"Subscription key not found in environment variables. Please set 'AZURE_SUBSCRIPTION_KEY'.\"\n",
    "            )\n",
    "\n",
    "        conn = http.client.HTTPSConnection(\"atlas.microsoft.com\")\n",
    "        # Use the latitude, longitude, and categorySet parameters in the URL\n",
    "        conn.request(\n",
    "            \"GET\",\n",
    "            f\"/search/fuzzy/json?api-version=1.0&query=restaurant&lat={lat}&lon={lon}&categorySet={categorySet}&subscription-key={subscription_key}\",\n",
    "        )\n",
    "        res = conn.getresponse()\n",
    "        data = res.read()\n",
    "\n",
    "        # Decode the response and load it as a JSON object\n",
    "        json_data = json.loads(data.decode(\"utf-8\"))\n",
    "\n",
    "        # Pretty-print the JSON data\n",
    "        return json.dumps(json_data, indent=4)"
   ]
  },
  {
   "cell_type": "markdown",
   "metadata": {},
   "source": [
    "# Create CrewAI Agent\n",
    "\n",
    "Create a restaurant assistent Agent\n",
    "\n"
   ]
  },
  {
   "cell_type": "code",
   "execution_count": 112,
   "metadata": {},
   "outputs": [],
   "source": [
    "restaurant_assistant = Agent(\n",
    "  role='Restaurant Assistant',\n",
    "  goal='Provide information about the restaurant recommendations based on the type of restaurant and their location',\n",
    "  backstory='I am a restaurant assistant and I can help you with restaurant recommendations based on the type of restaurant and their location.',\n",
    "  verbose=True,\n",
    "  llm=default_llm,\n",
    "  human_input_prompts=[\n",
    "    \"I am looking for a restaurant recommendation for a {category} restaurant in {location}.\",\n",
    "    \"Can you recommend a {category} restaurant in {location}?\",\n",
    "    \"I would like to know about the best {category} restaurant in {location}.\"\n",
    "  ],\n",
    "  tools=[GetCategoryIDTool(), GetAddressTool(), GetRestaurantInfo()] # Set of capabilities or functions that the agent can use to perform tasks. Expected to be instances of custom classes compatible with the agent’s execution environment. Tools are initialized with a default value of an empty list.\n",
    ")"
   ]
  },
  {
   "cell_type": "markdown",
   "metadata": {},
   "source": [
    "# Create CrewAI Task\n",
    "\n",
    "Create a restaurant recommendation Task"
   ]
  },
  {
   "cell_type": "code",
   "execution_count": 114,
   "metadata": {},
   "outputs": [],
   "source": [
    "restaurant_recommendation_task = Task(\n",
    "  description='Assist with finding the best restaurants for customers based on their preferences in a specific location',\n",
    "  agent=restaurant_assistant,  # Assigning the task to the restaurant assistant\n",
    "  expected_output='A list of the top 5 restaurants for {category} food in the {location} that match the customer''s preferences',\n",
    "  human_input= False,\n",
    "  output_file='restaurant_assistant_output.md',\n",
    "  verbose=True\n",
    ")"
   ]
  },
  {
   "cell_type": "markdown",
   "metadata": {},
   "source": [
    "# Create crewAI Task\n",
    "\n",
    "Create a get category tool task"
   ]
  },
  {
   "cell_type": "code",
   "execution_count": 115,
   "metadata": {},
   "outputs": [],
   "source": [
    "get_category_tool_task = Task(\n",
    "  description='Retrieve the category ID from the JSON data based on the category name.',\n",
    "  agent=restaurant_assistant,  # Assigning the task to the restaurant assistant\n",
    "  expected_output='The category ID if found, or an error message.',\n",
    "  tools=[GetCategoryIDTool()], # The functions or capabilities the agent can utilize to perform the task. Defaults to an empty list.\n",
    "  human_input= False,\n",
    "  verbose=True\n",
    ")"
   ]
  },
  {
   "cell_type": "markdown",
   "metadata": {},
   "source": [
    "# Create crewAI task\n",
    "\n",
    "Create a task to find the location for which the user is asking a restaurant recommendation"
   ]
  },
  {
   "cell_type": "code",
   "execution_count": 116,
   "metadata": {},
   "outputs": [],
   "source": [
    "get_restaurant_location_task = Task(\n",
    "    description='Retrieve the location of the restaurant based on the user input.',\n",
    "    agent=restaurant_assistant,\n",
    "    expected_output='The location of the restaurant if found, or an error message.',\n",
    "    tools=[GetAddressTool()], # The functions or capabilities the agent can utilize to perform the task. Defaults to an empty list.\n",
    "    human_input=False,\n",
    "    verbose=True\n",
    ")"
   ]
  },
  {
   "cell_type": "markdown",
   "metadata": {},
   "source": [
    "# Create crewAI task\n",
    "\n",
    "Create a task to find all the restaurants for the location (lat, lon) and category."
   ]
  },
  {
   "cell_type": "code",
   "execution_count": 117,
   "metadata": {},
   "outputs": [],
   "source": [
    "get_restaurant_info_task = Task(\n",
    "    description='Retrieve restaurant information based on the latitude and longitude coordinates.',\n",
    "    agent=restaurant_assistant,\n",
    "    expected_output='The restaurant information in json format.',\n",
    "    tools=[GetRestaurantInfo()], # The functions or capabilities the agent can utilize to perform the task. Defaults to an empty list.\n",
    "    human_input=False,\n",
    "    verbose=True\n",
    ")"
   ]
  },
  {
   "cell_type": "markdown",
   "metadata": {},
   "source": [
    "# Instantiate crew\n",
    "\n",
    "Now it's time to instantiate the crew and start the task execution"
   ]
  },
  {
   "cell_type": "code",
   "execution_count": null,
   "metadata": {},
   "outputs": [
    {
     "name": "stderr",
     "output_type": "stream",
     "text": [
      "2024-11-18 16:23:08,857 - 31500 - __init__.py-__init__:538 - WARNING: Overriding of current TracerProvider is not allowed\n"
     ]
    },
    {
     "ename": "KeyError",
     "evalue": "'category'",
     "output_type": "error",
     "traceback": [
      "\u001b[1;31m---------------------------------------------------------------------------\u001b[0m",
      "\u001b[1;31mKeyError\u001b[0m                                  Traceback (most recent call last)",
      "Cell \u001b[1;32mIn[123], line 19\u001b[0m\n\u001b[0;32m     10\u001b[0m crew \u001b[38;5;241m=\u001b[39m Crew(\n\u001b[0;32m     11\u001b[0m     agents\u001b[38;5;241m=\u001b[39m[restaurant_assistant],\n\u001b[0;32m     12\u001b[0m     tasks\u001b[38;5;241m=\u001b[39m[restaurant_recommendation_task, get_category_tool_task, get_restaurant_location_task, get_restaurant_info_task],\n\u001b[1;32m   (...)\u001b[0m\n\u001b[0;32m     15\u001b[0m     verbose\u001b[38;5;241m=\u001b[39m\u001b[38;5;28;01mTrue\u001b[39;00m,\n\u001b[0;32m     16\u001b[0m )\n\u001b[0;32m     18\u001b[0m \u001b[38;5;66;03m# Begin the task execution\u001b[39;00m\n\u001b[1;32m---> 19\u001b[0m \u001b[43mcrew\u001b[49m\u001b[38;5;241;43m.\u001b[39;49m\u001b[43mkickoff\u001b[49m\u001b[43m(\u001b[49m\u001b[43minputs\u001b[49m\u001b[38;5;241;43m=\u001b[39;49m\u001b[43minputs\u001b[49m\u001b[43m)\u001b[49m\n",
      "File \u001b[1;32mc:\\Github\\llmagents\\.venv\\Lib\\site-packages\\crewai\\crew.py:467\u001b[0m, in \u001b[0;36mCrew.kickoff\u001b[1;34m(self, inputs)\u001b[0m\n\u001b[0;32m    465\u001b[0m \u001b[38;5;28;01mif\u001b[39;00m inputs \u001b[38;5;129;01mis\u001b[39;00m \u001b[38;5;129;01mnot\u001b[39;00m \u001b[38;5;28;01mNone\u001b[39;00m:\n\u001b[0;32m    466\u001b[0m     \u001b[38;5;28mself\u001b[39m\u001b[38;5;241m.\u001b[39m_inputs \u001b[38;5;241m=\u001b[39m inputs\n\u001b[1;32m--> 467\u001b[0m     \u001b[38;5;28;43mself\u001b[39;49m\u001b[38;5;241;43m.\u001b[39;49m\u001b[43m_interpolate_inputs\u001b[49m\u001b[43m(\u001b[49m\u001b[43minputs\u001b[49m\u001b[43m)\u001b[49m\n\u001b[0;32m    468\u001b[0m \u001b[38;5;28mself\u001b[39m\u001b[38;5;241m.\u001b[39m_set_tasks_callbacks()\n\u001b[0;32m    470\u001b[0m i18n \u001b[38;5;241m=\u001b[39m I18N(prompt_file\u001b[38;5;241m=\u001b[39m\u001b[38;5;28mself\u001b[39m\u001b[38;5;241m.\u001b[39mprompt_file)\n",
      "File \u001b[1;32mc:\\Github\\llmagents\\.venv\\Lib\\site-packages\\crewai\\crew.py:951\u001b[0m, in \u001b[0;36mCrew._interpolate_inputs\u001b[1;34m(self, inputs)\u001b[0m\n\u001b[0;32m    948\u001b[0m \u001b[38;5;28;01mdef\u001b[39;00m \u001b[38;5;21m_interpolate_inputs\u001b[39m(\u001b[38;5;28mself\u001b[39m, inputs: Dict[\u001b[38;5;28mstr\u001b[39m, Any]) \u001b[38;5;241m-\u001b[39m\u001b[38;5;241m>\u001b[39m \u001b[38;5;28;01mNone\u001b[39;00m:\n\u001b[0;32m    949\u001b[0m \u001b[38;5;250m    \u001b[39m\u001b[38;5;124;03m\"\"\"Interpolates the inputs in the tasks and agents.\"\"\"\u001b[39;00m\n\u001b[0;32m    950\u001b[0m     [\n\u001b[1;32m--> 951\u001b[0m         \u001b[43mtask\u001b[49m\u001b[38;5;241;43m.\u001b[39;49m\u001b[43minterpolate_inputs\u001b[49m\u001b[43m(\u001b[49m\n\u001b[0;32m    952\u001b[0m \u001b[43m            \u001b[49m\u001b[38;5;66;43;03m# type: ignore # \"interpolate_inputs\" of \"Task\" does not return a value (it only ever returns None)\u001b[39;49;00m\n\u001b[0;32m    953\u001b[0m \u001b[43m            \u001b[49m\u001b[43minputs\u001b[49m\n\u001b[0;32m    954\u001b[0m \u001b[43m        \u001b[49m\u001b[43m)\u001b[49m\n\u001b[0;32m    955\u001b[0m         \u001b[38;5;28;01mfor\u001b[39;00m task \u001b[38;5;129;01min\u001b[39;00m \u001b[38;5;28mself\u001b[39m\u001b[38;5;241m.\u001b[39mtasks\n\u001b[0;32m    956\u001b[0m     ]\n\u001b[0;32m    957\u001b[0m     \u001b[38;5;66;03m# type: ignore # \"interpolate_inputs\" of \"Agent\" does not return a value (it only ever returns None)\u001b[39;00m\n\u001b[0;32m    958\u001b[0m     \u001b[38;5;28;01mfor\u001b[39;00m agent \u001b[38;5;129;01min\u001b[39;00m \u001b[38;5;28mself\u001b[39m\u001b[38;5;241m.\u001b[39magents:\n",
      "File \u001b[1;32mc:\\Github\\llmagents\\.venv\\Lib\\site-packages\\crewai\\task.py:308\u001b[0m, in \u001b[0;36mTask.interpolate_inputs\u001b[1;34m(self, inputs)\u001b[0m\n\u001b[0;32m    306\u001b[0m \u001b[38;5;28;01mif\u001b[39;00m inputs:\n\u001b[0;32m    307\u001b[0m     \u001b[38;5;28mself\u001b[39m\u001b[38;5;241m.\u001b[39mdescription \u001b[38;5;241m=\u001b[39m \u001b[38;5;28mself\u001b[39m\u001b[38;5;241m.\u001b[39m_original_description\u001b[38;5;241m.\u001b[39mformat(\u001b[38;5;241m*\u001b[39m\u001b[38;5;241m*\u001b[39minputs)\n\u001b[1;32m--> 308\u001b[0m     \u001b[38;5;28mself\u001b[39m\u001b[38;5;241m.\u001b[39mexpected_output \u001b[38;5;241m=\u001b[39m \u001b[38;5;28;43mself\u001b[39;49m\u001b[38;5;241;43m.\u001b[39;49m\u001b[43m_original_expected_output\u001b[49m\u001b[38;5;241;43m.\u001b[39;49m\u001b[43mformat\u001b[49m\u001b[43m(\u001b[49m\u001b[38;5;241;43m*\u001b[39;49m\u001b[38;5;241;43m*\u001b[39;49m\u001b[43minputs\u001b[49m\u001b[43m)\u001b[49m\n",
      "\u001b[1;31mKeyError\u001b[0m: 'category'"
     ]
    }
   ],
   "source": [
    "# Create a Crew instance with the restaurant assistant agent and the tasks\n",
    "# Why do I need to specify the inputs here? Cannot I just pass the following input? \n",
    "# \"I'm hungry, I want a Mexican restaurant in Haarlem\"\n",
    "inputs = {\n",
    "    \"category\": \"Mexican\",\n",
    "    \"location\": \"Halfweg, the Netherlands\",\n",
    "    \"topic\": \"restaurant recommendation for a Mexican restaurant in Halfweg\"\n",
    "}\n",
    "\n",
    "crew = Crew(\n",
    "    agents=[restaurant_assistant],\n",
    "    tasks=[restaurant_recommendation_task, get_category_tool_task, get_restaurant_location_task, get_restaurant_info_task],\n",
    "    process=Process.sequential,\n",
    "    inputs=inputs, # Why do I need to add this attribute here?\n",
    "    verbose=True,\n",
    ")\n",
    "\n",
    "# Begin the task execution\n",
    "crew.kickoff(inputs=inputs)\n"
   ]
  }
 ],
 "metadata": {
  "kernelspec": {
   "display_name": ".venv",
   "language": "python",
   "name": "python3"
  },
  "language_info": {
   "codemirror_mode": {
    "name": "ipython",
    "version": 3
   },
   "file_extension": ".py",
   "mimetype": "text/x-python",
   "name": "python",
   "nbconvert_exporter": "python",
   "pygments_lexer": "ipython3",
   "version": "3.12.7"
  }
 },
 "nbformat": 4,
 "nbformat_minor": 2
}
